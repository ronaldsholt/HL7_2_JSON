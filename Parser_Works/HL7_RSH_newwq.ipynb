{
 "cells": [
  {
   "cell_type": "code",
   "execution_count": 13,
   "metadata": {},
   "outputs": [
    {
     "data": {
      "text/plain": [
       "u'/Users/kra7830/Desktop/MSDS_School/Info_Structures/dev/Team42'"
      ]
     },
     "execution_count": 13,
     "metadata": {},
     "output_type": "execute_result"
    }
   ],
   "source": [
    "%pwd"
   ]
  },
  {
   "cell_type": "code",
   "execution_count": 15,
   "metadata": {},
   "outputs": [],
   "source": [
    "import numpy as np\n",
    "import string\n",
    "file_name = input_file_name()\n",
    "    \n",
    "    # Opening the file for read.\n",
    "    1. open_hl7 = open_hl7_file(file_name)\n",
    "\n",
    "    2. file_array = file_to_array(open_hl7)\n",
    "\n",
    "    3. line_array = array_of_lines(file_array)\n",
    "\n",
    "    4. clean_line_array = delete_empty_str(line_array)\n",
    "\n",
    "    5. hl7_dictionary = create_dictionary(clean_line_array)\n",
    "\n",
    "    to_json(hl7_dictionary)\n"
   ]
  },
  {
   "cell_type": "code",
   "execution_count": 24,
   "metadata": {},
   "outputs": [],
   "source": [
    "##### open_hl7_file(file_name)\n",
    "with open('hl7_1.txt') as f:\n",
    "    content = f.readlines()\n",
    "# you may also want to remove whitespace characters like `\\n` at the end of each line\n",
    "msg_content = [x.strip() for x in content] "
   ]
  },
  {
   "cell_type": "code",
   "execution_count": 112,
   "metadata": {},
   "outputs": [],
   "source": [
    "file1 = '/Users/kra7830/Desktop/MSDS_School/Info_Structures/dev/Team42/hl7_1.txt'\n",
    "f = open(file1, \"r\")"
   ]
  },
  {
   "cell_type": "code",
   "execution_count": 113,
   "metadata": {},
   "outputs": [],
   "source": [
    "#### file_array = file_to_array(open_hl7)\n",
    "\"\"\"Take raw file and append to array.\"\"\"\n",
    "file_array = []\n",
    "for text in f:\n",
    "    file_array.append(text)"
   ]
  },
  {
   "cell_type": "code",
   "execution_count": null,
   "metadata": {},
   "outputs": [],
   "source": [
    "#### line_array = array_of_lines(file_array)"
   ]
  },
  {
   "cell_type": "code",
   "execution_count": 77,
   "metadata": {},
   "outputs": [],
   "source": []
  },
  {
   "cell_type": "code",
   "execution_count": 114,
   "metadata": {},
   "outputs": [],
   "source": [
    "file_line_array = []\n",
    "for lines in file_array:\n",
    "    file_line_array.append(lines.split(\"|\"))\n",
    "#line_with_str = delete_empty_str(file_line_array)\n",
    "    #return line_with_str"
   ]
  },
  {
   "cell_type": "code",
   "execution_count": 107,
   "metadata": {},
   "outputs": [],
   "source": [
    "#line_with_str = delete_empty_str(file_line_array)"
   ]
  },
  {
   "cell_type": "code",
   "execution_count": 118,
   "metadata": {},
   "outputs": [],
   "source": [
    "#def delete_empty_str(file):\n",
    "\"\"\"\n",
    "    Delete elements with empty values from line_array.\n",
    "    [[\"MSH\", \"^~\\&\", \"\", \"\"], [\"PID\", \"1\", \"9081717170722.97472\", \"\"]]\n",
    "    :param file: Takes the array of lines.\n",
    "    :return: An array of lines without empty elements\n",
    "\"\"\"\n",
    "line_array = []\n",
    "for lines in file_line_array:\n",
    "    line_with_str = [string for string in lines if string]\n",
    "    line_array.append(line_with_str)\n",
    "    #return line_array"
   ]
  },
  {
   "cell_type": "code",
   "execution_count": 120,
   "metadata": {},
   "outputs": [],
   "source": [
    "def delete_char(string):\n",
    "    r\"\"\"\n",
    "    Delete character from string (e.g. \"^~\\&\").\n",
    "    :param string: Take a string to be parsed.\n",
    "    :return: Returns the string without the undesired character.\n",
    "    \"\"\"\n",
    "    if \"^\" in string and string != r\"^~\\&\":\n",
    "        return string.split(\"^\")\n",
    "    elif \"~\" in string and string != r\"^~\\&\":\n",
    "        return string.split(\"~\")\n",
    "    else:\n",
    "        return string"
   ]
  },
  {
   "cell_type": "code",
   "execution_count": 124,
   "metadata": {},
   "outputs": [],
   "source": [
    " #clean_line_array = delete_empty_str(line_array) which is just line_array\n",
    "line_with_str = line_array"
   ]
  },
  {
   "cell_type": "code",
   "execution_count": 141,
   "metadata": {},
   "outputs": [
    {
     "data": {
      "text/plain": [
       "OrderedDict([('MSH',\n",
       "              OrderedDict([('MSH.0', 'MSH'),\n",
       "                           ('MSH.1', '^~\\\\&'),\n",
       "                           ('MSH.2', 'ADM'),\n",
       "                           ('MSH.3', 'SHM'),\n",
       "                           ('MSH.4', 'ALL'),\n",
       "                           ('MSH.5', 'ALL'),\n",
       "                           ('MSH.6', '20090101010000'),\n",
       "                           ('MSH.7',\n",
       "                            OrderedDict([('MSH.7.0', 'ORU'),\n",
       "                                         ('MSH.7.1', 'R01')])),\n",
       "                           ('MSH.8', 'IHS-20090101010000.00830'),\n",
       "                           ('MSH.9', 'P'),\n",
       "                           ('MSH.10', '2.1')])),\n",
       "             ('PID',\n",
       "              OrderedDict([('PID.0', 'PID'),\n",
       "                           ('PID.1', '1'),\n",
       "                           ('PID.2', '9081717170722.97472'),\n",
       "                           ('PID.3',\n",
       "                            OrderedDict([('PID.3.0', 'RUBIE'),\n",
       "                                         ('PID.3.1', 'ALBERT'),\n",
       "                                         ('PID.3.2', 'ALLEN'),\n",
       "                                         ('PID.3.3', 'AS')])),\n",
       "                           ('PID.4', '19930812'),\n",
       "                           ('PID.5', 'M'),\n",
       "                           ('PID.6',\n",
       "                            OrderedDict([('PID.6.0', '3250 DEL PASO BLVD'),\n",
       "                                         ('PID.6.1', 'BUTTE'),\n",
       "                                         ('PID.6.2', 'CHICO'),\n",
       "                                         ('PID.6.3', 'CA'),\n",
       "                                         ('PID.6.4', '95973'),\n",
       "                                         ('PID.6.5', 'USA')])),\n",
       "                           ('PID.7', '393-41-9499'),\n",
       "                           ('PID.8', '393-41-9499')])),\n",
       "             ('PV1',\n",
       "              OrderedDict([('PV1.0', 'PV1'),\n",
       "                           ('PV1.1', '1'),\n",
       "                           ('PV1.2', 'E'),\n",
       "                           ('PV1.3',\n",
       "                            OrderedDict([('PV1.3.0', 'P194'),\n",
       "                                         ('PV1.3.1', 'R10'),\n",
       "                                         ('PV1.3.2', 'B3')])),\n",
       "                           ('PV1.4', 'N'),\n",
       "                           ('PV1.5',\n",
       "                            OrderedDict([('PV1.5.0', '441-53-8619'),\n",
       "                                         ('PV1.5.1', 'BEZA'),\n",
       "                                         ('PV1.5.2', 'ROSS'),\n",
       "                                         ('PV1.5.3', 'ROOSEVELT'),\n",
       "                                         ('PV1.5.4', 'MD'),\n",
       "                                         ('PV1.5.5', 'DR')])),\n",
       "                           ('PV1.6',\n",
       "                            OrderedDict([('PV1.6.0', '360-77-9680'),\n",
       "                                         ('PV1.6.1', 'SERVI'),\n",
       "                                         ('PV1.6.2', 'EDMUNDO'),\n",
       "                                         ('PV1.6.3', 'OTTO'),\n",
       "                                         ('PV1.6.4', 'MD'),\n",
       "                                         ('PV1.6.5', 'DR')])),\n",
       "                           ('PV1.7', '5'),\n",
       "                           ('PV1.8', 'SDC'),\n",
       "                           ('PV1.9', '20090101065500')])),\n",
       "             ('NK1',\n",
       "              OrderedDict([('NK1.0', 'NK1'),\n",
       "                           ('NK1.1', '1'),\n",
       "                           ('NK1.2',\n",
       "                            OrderedDict([('NK1.2.0', 'RUBIE'),\n",
       "                                         ('NK1.2.1', 'HARRY'),\n",
       "                                         ('NK1.2.2', 'ROBIN'),\n",
       "                                         ('NK1.2.3', 'MT')])),\n",
       "                           ('NK1.3', 'FA')])),\n",
       "             ('IN1',\n",
       "              OrderedDict([('IN1.0', 'IN1'),\n",
       "                           ('IN1.1', '1'),\n",
       "                           ('IN1.2', 'UNIT HLTH'),\n",
       "                           ('IN1.3',\n",
       "                            OrderedDict([('IN1.3.0', 'RUBIE'),\n",
       "                                         ('IN1.3.1', 'ALBERT'),\n",
       "                                         ('IN1.3.2', 'ALLEN'),\n",
       "                                         ('IN1.3.3', 'AS')])),\n",
       "                           ('IN1.4', 'SELF')])),\n",
       "             ('ORC',\n",
       "              OrderedDict([('ORC.0', 'ORC'),\n",
       "                           ('ORC.1', 'RE'),\n",
       "                           ('ORC.2', '90101080000.830'),\n",
       "                           ('ORC.3', 'CM'),\n",
       "                           ('ORC.4', '20090101080000'),\n",
       "                           ('ORC.5',\n",
       "                            OrderedDict([('ORC.5.0', '865-34-3627'),\n",
       "                                         ('ORC.5.1', 'MANTHE'),\n",
       "                                         ('ORC.5.2', 'JUSTIN'),\n",
       "                                         ('ORC.5.3', 'REYNALDO'),\n",
       "                                         ('ORC.5.4', 'MD'),\n",
       "                                         ('ORC.5.5', 'DR')])),\n",
       "                           ('ORC.6',\n",
       "                            OrderedDict([('ORC.6.0', '452-74-4052'),\n",
       "                                         ('ORC.6.1', 'ALTHEIMER'),\n",
       "                                         ('ORC.6.2', 'THEODORE'),\n",
       "                                         ('ORC.6.3', 'JAMAL'),\n",
       "                                         ('ORC.6.4', 'MD'),\n",
       "                                         ('ORC.6.5', 'DR')]))])),\n",
       "             ('OBR',\n",
       "              OrderedDict([('OBR.0', 'OBR'),\n",
       "                           ('OBR.1', '90101080000.830'),\n",
       "                           ('OBR.2',\n",
       "                            OrderedDict([('OBR.2.0', '1205'),\n",
       "                                         ('OBR.2.1',\n",
       "                                          'MAGNETIC IMAGE, NECK SPINE')])),\n",
       "                           ('OBR.3',\n",
       "                            OrderedDict([('OBR.3.0', '452-74-4052'),\n",
       "                                         ('OBR.3.1', 'ALTHEIMER'),\n",
       "                                         ('OBR.3.2', 'THEODORE'),\n",
       "                                         ('OBR.3.3', 'JAMAL'),\n",
       "                                         ('OBR.3.4', 'MD'),\n",
       "                                         ('OBR.3.5', 'DR')])),\n",
       "                           ('OBR.4', '(408)-536-2087'),\n",
       "                           ('OBR.5', 'A'),\n",
       "                           ('OBR.6',\n",
       "                            OrderedDict([('OBR.6.0', '699-27-2393'),\n",
       "                                         ('OBR.6.1', 'EPOLITO'),\n",
       "                                         ('OBR.6.2', 'HORACIO'),\n",
       "                                         ('OBR.6.3', 'GENE'),\n",
       "                                         ('OBR.6.4', 'MD'),\n",
       "                                         ('OBR.6.5', 'DR')])),\n",
       "                           ('OBR.7',\n",
       "                            OrderedDict([('OBR.7.0', '644-57-6302'),\n",
       "                                         ('OBR.7.1', 'VINAGRE'),\n",
       "                                         ('OBR.7.2', 'HARRISON'),\n",
       "                                         ('OBR.7.3', 'TRACEY'),\n",
       "                                         ('OBR.7.4', 'MD'),\n",
       "                                         ('OBR.7.5', 'DR')])),\n",
       "                           ('OBR.8',\n",
       "                            OrderedDict([('OBR.8.0', '609-14-8343'),\n",
       "                                         ('OBR.8.1', 'AHALT'),\n",
       "                                         ('OBR.8.2', 'CHONG'),\n",
       "                                         ('OBR.8.3', 'LYLE'),\n",
       "                                         ('OBR.8.4', 'MD'),\n",
       "                                         ('OBR.8.5', 'DR')])),\n",
       "                           ('OBR.9', '20090101080000')])),\n",
       "             ('OBX',\n",
       "              OrderedDict([('OBX.0', 'OBX'),\n",
       "                           ('OBX.1', '5'),\n",
       "                           ('OBX.2', 'TX'),\n",
       "                           ('OBX.3',\n",
       "                            'Principal Result Interpreter: Dr. HORACIO, EPOLITO'),\n",
       "                           ('OBX.4', 'P')]))])"
      ]
     },
     "execution_count": 141,
     "metadata": {},
     "output_type": "execute_result"
    }
   ],
   "source": [
    "def create_dictionary(file):\n",
    "    \"\"\"\n",
    "    Create a dictionary out of an array of hl7 lines.\n",
    "    :param file: Takes an array obj.\n",
    "    :return: Dictionary\n",
    "    \"\"\"\n",
    "    line = OrderedDict()\n",
    "    for key, each_line in enumerate(file):\n",
    "        # Reset each sub_line on each iteration.\n",
    "        sub_line = OrderedDict()\n",
    "        # Sets the very outer key.\n",
    "        top_key = each_line[0]\n",
    "        # Iterates over the dictionary.\n",
    "        for sub_key, value in enumerate(each_line):\n",
    "            # Reset third level of dictionary where split (\"|\").\n",
    "            sub_sub_line = OrderedDict()\n",
    "            sub_line[top_key + \".\" + str(sub_key)] = value.replace(\"\\n\", \"\")\n",
    "        for sub_sub_k, sub_sub_v in sub_line.items():\n",
    "            # Reset third level of dictionary where split (\"^\", \"~\").\n",
    "            last_line = OrderedDict()\n",
    "            # Split sub level by \"^\" and \"~\".\n",
    "            value = delete_char(sub_sub_v)\n",
    "            # Delete empty positions from split array.\n",
    "            if isinstance(value, list):\n",
    "                sub_array = [string for string in value if string]\n",
    "                # Creating sub-dictionary for elements \"^\" and \"~\".\n",
    "                for k, item in enumerate(sub_array):\n",
    "                    last_line[sub_sub_k + \".\" + str(k)] = item\n",
    "                    value = last_line\n",
    "            # Append to dictionary.\n",
    "            line_with_str = value\n",
    "            # Delete empty positions from split outter array.\n",
    "            if isinstance(line_with_str, list):\n",
    "                sub_sub_line[sub_sub_k] = [\n",
    "                    string for string in line_with_str if string]\n",
    "            else:\n",
    "                sub_sub_line[sub_sub_k] = line_with_str\n",
    "        # Creating sub dictionary.\n",
    "        sub_line = sub_sub_line\n",
    "\n",
    "        # Add sub_line to the dictionary.\n",
    "        line[top_key] = sub_line\n",
    "    return line\n",
    "create_dictionary(line_array)"
   ]
  },
  {
   "cell_type": "code",
   "execution_count": 142,
   "metadata": {},
   "outputs": [],
   "source": [
    "import pprint\n",
    "import json\n",
    "\n",
    "def to_json(dict_obj):\n",
    "    \"\"\"\n",
    "    Write a json file from the input data.\n",
    "    :param dict_obj: OrderedDict() object\n",
    "    :return: Writes a json file.\n",
    "    \"\"\"\n",
    "    with open(\"data.json\", \"w\") as out_file:\n",
    "        json.dump(dict_obj, out_file, indent=4)\n",
    "to_json(create_dictionary(line_array))"
   ]
  },
  {
   "cell_type": "code",
   "execution_count": 127,
   "metadata": {},
   "outputs": [],
   "source": [
    "def print_to_console(dict_obj):\n",
    "    \"\"\"Print beautify jason.\"\"\"\n",
    "    pp = pprint.PrettyPrinter(indent=1)\n",
    "    pp.pprint(dict_obj)"
   ]
  },
  {
   "cell_type": "code",
   "execution_count": 138,
   "metadata": {},
   "outputs": [
    {
     "name": "stdout",
     "output_type": "stream",
     "text": [
      "None\n"
     ]
    }
   ],
   "source": []
  },
  {
   "cell_type": "code",
   "execution_count": null,
   "metadata": {
    "collapsed": true
   },
   "outputs": [],
   "source": []
  }
 ],
 "metadata": {
  "kernelspec": {
   "display_name": "Python 2",
   "language": "python",
   "name": "python2"
  },
  "language_info": {
   "codemirror_mode": {
    "name": "ipython",
    "version": 2
   },
   "file_extension": ".py",
   "mimetype": "text/x-python",
   "name": "python",
   "nbconvert_exporter": "python",
   "pygments_lexer": "ipython2",
   "version": "2.7.13"
  }
 },
 "nbformat": 4,
 "nbformat_minor": 2
}
