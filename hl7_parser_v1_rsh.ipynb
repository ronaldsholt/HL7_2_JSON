{
 "cells": [
  {
   "cell_type": "code",
   "execution_count": 1,
   "metadata": {
    "collapsed": true
   },
   "outputs": [],
   "source": [
    "import pprint\n",
    "import json\n",
    "from collections import OrderedDict\n",
    "\n",
    "file1 = '/Users/kra7830/Desktop/MSDS_School/Info_Structures/dev/Team42/hl7_2.txt'\n",
    "f = open(file1, \"r\")\n",
    "\n"
   ]
  },
  {
   "cell_type": "code",
   "execution_count": 2,
   "metadata": {
    "collapsed": true
   },
   "outputs": [],
   "source": [
    "\"\"\"Take raw file and append to array.\"\"\"\n",
    "file_array = []\n",
    "for text in f:\n",
    "    file_array.append(text)"
   ]
  },
  {
   "cell_type": "code",
   "execution_count": 3,
   "metadata": {
    "collapsed": true
   },
   "outputs": [],
   "source": [
    "file_line_array = []\n",
    "for lines in file_array:\n",
    "    file_line_array.append(lines.split(\"|\"))"
   ]
  },
  {
   "cell_type": "code",
   "execution_count": 4,
   "metadata": {
    "collapsed": true
   },
   "outputs": [],
   "source": [
    "line_array = []\n",
    "for lines in file_line_array:\n",
    "    line_with_str = [string for string in lines if string]\n",
    "    line_array.append(line_with_str)"
   ]
  },
  {
   "cell_type": "code",
   "execution_count": 5,
   "metadata": {
    "collapsed": true
   },
   "outputs": [],
   "source": [
    "line_with_str = line_array"
   ]
  },
  {
   "cell_type": "code",
   "execution_count": 6,
   "metadata": {},
   "outputs": [
    {
     "data": {
      "text/plain": [
       "OrderedDict([('MSH',\n",
       "              OrderedDict([('MSH.0', 'MSH'),\n",
       "                           ('MSH.1', '^~\\\\&'),\n",
       "                           ('MSH.2', 'ADM'),\n",
       "                           ('MSH.3', 'SHM'),\n",
       "                           ('MSH.4', 'ALL'),\n",
       "                           ('MSH.5', 'ALL'),\n",
       "                           ('MSH.6', '20090101010000'),\n",
       "                           ('MSH.7',\n",
       "                            OrderedDict([('MSH.7.0', 'ORU'),\n",
       "                                         ('MSH.7.1', 'R01')])),\n",
       "                           ('MSH.8', 'IHS-20090101010000.00830'),\n",
       "                           ('MSH.9', 'P'),\n",
       "                           ('MSH.10', '2.1')])),\n",
       "             ('PID',\n",
       "              OrderedDict([('PID.0', 'PID'),\n",
       "                           ('PID.1', '1'),\n",
       "                           ('PID.2', '9081717170722.97472'),\n",
       "                           ('PID.3',\n",
       "                            OrderedDict([('PID.3.0', 'RUBIE'),\n",
       "                                         ('PID.3.1', 'ALBERT'),\n",
       "                                         ('PID.3.2', 'ALLEN'),\n",
       "                                         ('PID.3.3', 'AS')])),\n",
       "                           ('PID.4', '19930812'),\n",
       "                           ('PID.5', 'M'),\n",
       "                           ('PID.6',\n",
       "                            OrderedDict([('PID.6.0', '3250 DEL PASO BLVD'),\n",
       "                                         ('PID.6.1', 'BUTTE'),\n",
       "                                         ('PID.6.2', 'CHICO'),\n",
       "                                         ('PID.6.3', 'CA'),\n",
       "                                         ('PID.6.4', '95973'),\n",
       "                                         ('PID.6.5', 'USA')])),\n",
       "                           ('PID.7', '393-41-9499'),\n",
       "                           ('PID.8', '393-41-9499')])),\n",
       "             ('PV1',\n",
       "              OrderedDict([('PV1.0', 'PV1'),\n",
       "                           ('PV1.1', '1'),\n",
       "                           ('PV1.2', 'E'),\n",
       "                           ('PV1.3',\n",
       "                            OrderedDict([('PV1.3.0', 'P194'),\n",
       "                                         ('PV1.3.1', 'R10'),\n",
       "                                         ('PV1.3.2', 'B3')])),\n",
       "                           ('PV1.4', 'N'),\n",
       "                           ('PV1.5',\n",
       "                            OrderedDict([('PV1.5.0', '441-53-8619'),\n",
       "                                         ('PV1.5.1', 'BEZA'),\n",
       "                                         ('PV1.5.2', 'ROSS'),\n",
       "                                         ('PV1.5.3', 'ROOSEVELT'),\n",
       "                                         ('PV1.5.4', 'MD'),\n",
       "                                         ('PV1.5.5', 'DR')])),\n",
       "                           ('PV1.6',\n",
       "                            OrderedDict([('PV1.6.0', '360-77-9680'),\n",
       "                                         ('PV1.6.1', 'SERVI'),\n",
       "                                         ('PV1.6.2', 'EDMUNDO'),\n",
       "                                         ('PV1.6.3', 'OTTO'),\n",
       "                                         ('PV1.6.4', 'MD'),\n",
       "                                         ('PV1.6.5', 'DR')])),\n",
       "                           ('PV1.7', '5'),\n",
       "                           ('PV1.8', 'SDC'),\n",
       "                           ('PV1.9', '20090101065500')])),\n",
       "             ('NK1',\n",
       "              OrderedDict([('NK1.0', 'NK1'),\n",
       "                           ('NK1.1', '1'),\n",
       "                           ('NK1.2',\n",
       "                            OrderedDict([('NK1.2.0', 'RUBIE'),\n",
       "                                         ('NK1.2.1', 'HARRY'),\n",
       "                                         ('NK1.2.2', 'ROBIN'),\n",
       "                                         ('NK1.2.3', 'MT')])),\n",
       "                           ('NK1.3', 'FA')])),\n",
       "             ('IN1',\n",
       "              OrderedDict([('IN1.0', 'IN1'),\n",
       "                           ('IN1.1', '1'),\n",
       "                           ('IN1.2', 'UNIT HLTH'),\n",
       "                           ('IN1.3',\n",
       "                            OrderedDict([('IN1.3.0', 'RUBIE'),\n",
       "                                         ('IN1.3.1', 'ALBERT'),\n",
       "                                         ('IN1.3.2', 'ALLEN'),\n",
       "                                         ('IN1.3.3', 'AS')])),\n",
       "                           ('IN1.4', 'SELF')])),\n",
       "             ('\\n', OrderedDict([('\\n.0', '')])),\n",
       "             ('ORC',\n",
       "              OrderedDict([('ORC.0', 'ORC'),\n",
       "                           ('ORC.1', 'RE'),\n",
       "                           ('ORC.2', '90101080000.830'),\n",
       "                           ('ORC.3', 'CM'),\n",
       "                           ('ORC.4', '20090101080000'),\n",
       "                           ('ORC.5',\n",
       "                            OrderedDict([('ORC.5.0', '865-34-3627'),\n",
       "                                         ('ORC.5.1', 'MANTHE'),\n",
       "                                         ('ORC.5.2', 'JUSTIN'),\n",
       "                                         ('ORC.5.3', 'REYNALDO'),\n",
       "                                         ('ORC.5.4', 'MD'),\n",
       "                                         ('ORC.5.5', 'DR')])),\n",
       "                           ('ORC.6',\n",
       "                            OrderedDict([('ORC.6.0', '452-74-4052'),\n",
       "                                         ('ORC.6.1', 'ALTHEIMER'),\n",
       "                                         ('ORC.6.2', 'THEODORE'),\n",
       "                                         ('ORC.6.3', 'JAMAL'),\n",
       "                                         ('ORC.6.4', 'MD'),\n",
       "                                         ('ORC.6.5', 'DR')]))])),\n",
       "             ('OBR',\n",
       "              OrderedDict([('OBR.0', 'OBR'),\n",
       "                           ('OBR.1', '90101080000.830'),\n",
       "                           ('OBR.2',\n",
       "                            OrderedDict([('OBR.2.0', '1205'),\n",
       "                                         ('OBR.2.1',\n",
       "                                          'MAGNETIC IMAGE, NECK SPINE')])),\n",
       "                           ('OBR.3',\n",
       "                            OrderedDict([('OBR.3.0', '452-74-4052'),\n",
       "                                         ('OBR.3.1', 'ALTHEIMER'),\n",
       "                                         ('OBR.3.2', 'THEODORE'),\n",
       "                                         ('OBR.3.3', 'JAMAL'),\n",
       "                                         ('OBR.3.4', 'MD'),\n",
       "                                         ('OBR.3.5', 'DR')])),\n",
       "                           ('OBR.4', '(408)-536-2087'),\n",
       "                           ('OBR.5', 'A'),\n",
       "                           ('OBR.6',\n",
       "                            OrderedDict([('OBR.6.0', '699-27-2393'),\n",
       "                                         ('OBR.6.1', 'EPOLITO'),\n",
       "                                         ('OBR.6.2', 'HORACIO'),\n",
       "                                         ('OBR.6.3', 'GENE'),\n",
       "                                         ('OBR.6.4', 'MD'),\n",
       "                                         ('OBR.6.5', 'DR')])),\n",
       "                           ('OBR.7',\n",
       "                            OrderedDict([('OBR.7.0', '644-57-6302'),\n",
       "                                         ('OBR.7.1', 'VINAGRE'),\n",
       "                                         ('OBR.7.2', 'HARRISON'),\n",
       "                                         ('OBR.7.3', 'TRACEY'),\n",
       "                                         ('OBR.7.4', 'MD'),\n",
       "                                         ('OBR.7.5', 'DR')])),\n",
       "                           ('OBR.8',\n",
       "                            OrderedDict([('OBR.8.0', '609-14-8343'),\n",
       "                                         ('OBR.8.1', 'AHALT'),\n",
       "                                         ('OBR.8.2', 'CHONG'),\n",
       "                                         ('OBR.8.3', 'LYLE'),\n",
       "                                         ('OBR.8.4', 'MD'),\n",
       "                                         ('OBR.8.5', 'DR')])),\n",
       "                           ('OBR.9', '20090101080000')])),\n",
       "             ('OBX',\n",
       "              OrderedDict([('OBX.0', 'OBX'),\n",
       "                           ('OBX.1', '5'),\n",
       "                           ('OBX.2', 'TX'),\n",
       "                           ('OBX.3',\n",
       "                            'Principal Result Interpreter: Dr. HORACIO, EPOLITO'),\n",
       "                           ('OBX.4', 'P')]))])"
      ]
     },
     "execution_count": 6,
     "metadata": {},
     "output_type": "execute_result"
    }
   ],
   "source": [
    "def delete_char(string):\n",
    "    \"\"\"\n",
    "    Delete character from string (e.g. \"^~\\&\").\n",
    "    :param string: Take a string to be parsed.\n",
    "    :return: Returns the string without the undesired character.\n",
    "    \"\"\"\n",
    "    if \"^\" in string and string != r\"^~\\&\":\n",
    "        return string.split(\"^\")\n",
    "    elif \"~\" in string and string != r\"^~\\&\":\n",
    "        return string.split(\"~\")\n",
    "    else:\n",
    "        return string\n",
    "    \n",
    "    \n",
    "def create_dictionary(file):\n",
    "    \"\"\"\n",
    "    Create a dictionary out of an array of hl7 lines.\n",
    "    :param file: Takes an array obj.\n",
    "    :return: Dictionary\n",
    "    \"\"\"\n",
    "    line = OrderedDict()\n",
    "    for key, each_line in enumerate(file):\n",
    "        # Reset each sub_line on each iteration.\n",
    "        sub_line = OrderedDict()\n",
    "        # Sets the very outer key.\n",
    "        top_key = each_line[0]\n",
    "        # Iterates over the dictionary.\n",
    "        for sub_key, value in enumerate(each_line):\n",
    "            # Reset third level of dictionary where split (\"|\").\n",
    "            sub_sub_line = OrderedDict()\n",
    "            sub_line[top_key + \".\" + str(sub_key)] = value.replace(\"\\n\", \"\")\n",
    "        for sub_sub_k, sub_sub_v in sub_line.items():\n",
    "            # Reset third level of dictionary where split (\"^\", \"~\").\n",
    "            last_line = OrderedDict()\n",
    "            # Split sub level by \"^\" and \"~\".\n",
    "            value = delete_char(sub_sub_v)\n",
    "            # Delete empty positions from split array.\n",
    "            if isinstance(value, list):\n",
    "                sub_array = [string for string in value if string]\n",
    "                # Creating sub-dictionary for elements \"^\" and \"~\".\n",
    "                for k, item in enumerate(sub_array):\n",
    "                    last_line[sub_sub_k + \".\" + str(k)] = item\n",
    "                    value = last_line\n",
    "            # Append to dictionary.\n",
    "            line_with_str = value\n",
    "            # Delete empty positions from split outter array.\n",
    "            if isinstance(line_with_str, list):\n",
    "                sub_sub_line[sub_sub_k] = [\n",
    "                    string for string in line_with_str if string]\n",
    "            else:\n",
    "                sub_sub_line[sub_sub_k] = line_with_str\n",
    "        # Creating sub dictionary.\n",
    "        sub_line = sub_sub_line\n",
    "\n",
    "        # Add sub_line to the dictionary.\n",
    "        line[top_key] = sub_line\n",
    "    return line\n",
    "\n",
    "create_dictionary(line_array)"
   ]
  },
  {
   "cell_type": "code",
   "execution_count": 8,
   "metadata": {},
   "outputs": [],
   "source": [
    "def to_json(dict_obj):\n",
    "    \"\"\"\n",
    "    Write a json file from the input data.\n",
    "    :param dict_obj: OrderedDict() object\n",
    "    :return: Writes a json file.\n",
    "    \"\"\"\n",
    "    with open(\"data.json\", \"w\") as out_file:\n",
    "        json.dump(dict_obj, out_file, indent=4)\n",
    "to_json(create_dictionary(line_array))"
   ]
  },
  {
   "cell_type": "code",
   "execution_count": 15,
   "metadata": {},
   "outputs": [],
   "source": [
    "\n",
    "\n",
    "with open('/Users/kra7830/Desktop/MSDS_School/Info_Structures/dev/Team42/data.json') as json_data:\n",
    "    d = json.load(json_data)\n",
    "    json_data.close()\n",
    "    #print(d)"
   ]
  },
  {
   "cell_type": "code",
   "execution_count": 26,
   "metadata": {},
   "outputs": [
    {
     "ename": "ValueError",
     "evalue": "need more than 2 values to unpack",
     "output_type": "error",
     "traceback": [
      "\u001b[0;31m---------------------------------------------------------------------------\u001b[0m",
      "\u001b[0;31mValueError\u001b[0m                                Traceback (most recent call last)",
      "\u001b[0;32m<ipython-input-26-c6a2df46c6d9>\u001b[0m in \u001b[0;36m<module>\u001b[0;34m()\u001b[0m\n\u001b[0;32m----> 1\u001b[0;31m \u001b[0;32mfor\u001b[0m \u001b[0mi\u001b[0m\u001b[0;34m,\u001b[0m\u001b[0mj\u001b[0m\u001b[0;34m,\u001b[0m\u001b[0mk\u001b[0m \u001b[0;32min\u001b[0m \u001b[0menumerate\u001b[0m\u001b[0;34m(\u001b[0m\u001b[0md\u001b[0m\u001b[0;34m)\u001b[0m\u001b[0;34m:\u001b[0m\u001b[0;34m\u001b[0m\u001b[0m\n\u001b[0m\u001b[1;32m      2\u001b[0m     \u001b[0;31m#for k,l in enumerate(d[0])\u001b[0m\u001b[0;34m\u001b[0m\u001b[0;34m\u001b[0m\u001b[0m\n\u001b[1;32m      3\u001b[0m     \u001b[0;32mprint\u001b[0m \u001b[0mj\u001b[0m\u001b[0;34m\u001b[0m\u001b[0m\n",
      "\u001b[0;31mValueError\u001b[0m: need more than 2 values to unpack"
     ]
    }
   ],
   "source": [
    "for i,j in enumerate(d):\n",
    "    #for k,l in enumerate(d[0])\n",
    "    print j"
   ]
  },
  {
   "cell_type": "code",
   "execution_count": 34,
   "metadata": {},
   "outputs": [
    {
     "name": "stdout",
     "output_type": "stream",
     "text": [
      "{u'PV1.0': u'PV1', u'PV1.1': u'1', u'PV1.2': u'E', u'PV1.3': {u'PV1.3.2': u'B3', u'PV1.3.1': u'R10', u'PV1.3.0': u'P194'}, u'PV1.4': u'N', u'PV1.5': {u'PV1.5.5': u'DR', u'PV1.5.4': u'MD', u'PV1.5.1': u'BEZA', u'PV1.5.0': u'441-53-8619', u'PV1.5.3': u'ROOSEVELT', u'PV1.5.2': u'ROSS'}, u'PV1.6': {u'PV1.6.2': u'EDMUNDO', u'PV1.6.3': u'OTTO', u'PV1.6.0': u'360-77-9680', u'PV1.6.1': u'SERVI', u'PV1.6.4': u'MD', u'PV1.6.5': u'DR'}, u'PV1.7': u'5', u'PV1.8': u'SDC', u'PV1.9': u'20090101065500'}\n",
      "{u'\\n.0': u''}\n",
      "{u'PID.8': u'393-41-9499', u'PID.4': u'19930812', u'PID.5': u'M', u'PID.6': {u'PID.6.4': u'95973', u'PID.6.5': u'USA', u'PID.6.2': u'CHICO', u'PID.6.3': u'CA', u'PID.6.0': u'3250 DEL PASO BLVD', u'PID.6.1': u'BUTTE'}, u'PID.7': u'393-41-9499', u'PID.0': u'PID', u'PID.1': u'1', u'PID.2': u'9081717170722.97472', u'PID.3': {u'PID.3.3': u'AS', u'PID.3.2': u'ALLEN', u'PID.3.1': u'ALBERT', u'PID.3.0': u'RUBIE'}}\n",
      "{u'IN1.1': u'1', u'IN1.0': u'IN1', u'IN1.3': {u'IN1.3.2': u'ALLEN', u'IN1.3.3': u'AS', u'IN1.3.0': u'RUBIE', u'IN1.3.1': u'ALBERT'}, u'IN1.2': u'UNIT HLTH', u'IN1.4': u'SELF'}\n",
      "{u'NK1.1': u'1', u'NK1.0': u'NK1', u'NK1.3': u'FA', u'NK1.2': {u'NK1.2.3': u'MT', u'NK1.2.2': u'ROBIN', u'NK1.2.1': u'HARRY', u'NK1.2.0': u'RUBIE'}}\n",
      "{u'OBX.4': u'P', u'OBX.2': u'TX', u'OBX.3': u'Principal Result Interpreter: Dr. HORACIO, EPOLITO', u'OBX.0': u'OBX', u'OBX.1': u'5'}\n",
      "{u'MSH.3': u'SHM', u'MSH.2': u'ADM', u'MSH.1': u'^~\\\\&', u'MSH.0': u'MSH', u'MSH.7': {u'MSH.7.0': u'ORU', u'MSH.7.1': u'R01'}, u'MSH.6': u'20090101010000', u'MSH.5': u'ALL', u'MSH.4': u'ALL', u'MSH.9': u'P', u'MSH.8': u'IHS-20090101010000.00830', u'MSH.10': u'2.1'}\n",
      "{u'OBR.8': {u'OBR.8.0': u'609-14-8343', u'OBR.8.1': u'AHALT', u'OBR.8.2': u'CHONG', u'OBR.8.3': u'LYLE', u'OBR.8.4': u'MD', u'OBR.8.5': u'DR'}, u'OBR.9': u'20090101080000', u'OBR.4': u'(408)-536-2087', u'OBR.5': u'A', u'OBR.6': {u'OBR.6.4': u'MD', u'OBR.6.5': u'DR', u'OBR.6.2': u'HORACIO', u'OBR.6.3': u'GENE', u'OBR.6.0': u'699-27-2393', u'OBR.6.1': u'EPOLITO'}, u'OBR.7': {u'OBR.7.3': u'TRACEY', u'OBR.7.2': u'HARRISON', u'OBR.7.1': u'VINAGRE', u'OBR.7.0': u'644-57-6302', u'OBR.7.5': u'DR', u'OBR.7.4': u'MD'}, u'OBR.0': u'OBR', u'OBR.1': u'90101080000.830', u'OBR.2': {u'OBR.2.0': u'1205', u'OBR.2.1': u'MAGNETIC IMAGE, NECK SPINE'}, u'OBR.3': {u'OBR.3.5': u'DR', u'OBR.3.4': u'MD', u'OBR.3.3': u'JAMAL', u'OBR.3.2': u'THEODORE', u'OBR.3.1': u'ALTHEIMER', u'OBR.3.0': u'452-74-4052'}}\n",
      "{u'ORC.1': u'RE', u'ORC.0': u'ORC', u'ORC.3': u'CM', u'ORC.2': u'90101080000.830', u'ORC.5': {u'ORC.5.0': u'865-34-3627', u'ORC.5.1': u'MANTHE', u'ORC.5.2': u'JUSTIN', u'ORC.5.3': u'REYNALDO', u'ORC.5.4': u'MD', u'ORC.5.5': u'DR'}, u'ORC.4': u'20090101080000', u'ORC.6': {u'ORC.6.5': u'DR', u'ORC.6.4': u'MD', u'ORC.6.3': u'JAMAL', u'ORC.6.2': u'THEODORE', u'ORC.6.1': u'ALTHEIMER', u'ORC.6.0': u'452-74-4052'}}\n"
     ]
    }
   ],
   "source": [
    "for i, j in enumerate(d.values()):\n",
    "    print j\n"
   ]
  },
  {
   "cell_type": "code",
   "execution_count": null,
   "metadata": {
    "collapsed": true
   },
   "outputs": [],
   "source": []
  }
 ],
 "metadata": {
  "kernelspec": {
   "display_name": "Python 2",
   "language": "python",
   "name": "python2"
  },
  "language_info": {
   "codemirror_mode": {
    "name": "ipython",
    "version": 2
   },
   "file_extension": ".py",
   "mimetype": "text/x-python",
   "name": "python",
   "nbconvert_exporter": "python",
   "pygments_lexer": "ipython2",
   "version": "2.7.13"
  }
 },
 "nbformat": 4,
 "nbformat_minor": 2
}
